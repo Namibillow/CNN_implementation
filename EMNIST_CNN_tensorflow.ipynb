{
 "cells": [
  {
   "cell_type": "code",
   "execution_count": 1,
   "metadata": {},
   "outputs": [],
   "source": [
    "import numpy as np\n",
    "import tensorflow as tf\n",
    "%matplotlib inline\n",
    "import matplotlib.pyplot as plt\n",
    "import pandas as pd\n",
    "import math"
   ]
  },
  {
   "cell_type": "markdown",
   "metadata": {},
   "source": [
    "<h1> Prepare the data"
   ]
  },
  {
   "cell_type": "markdown",
   "metadata": {},
   "source": [
    "Download the dataset from the one of the following links:\n",
    "- https://www.nist.gov/itl/iad/image-group/emnist-dataset\n",
    "- https://www.kaggle.com/crawford/emnist"
   ]
  },
  {
   "cell_type": "markdown",
   "metadata": {},
   "source": [
    "# MNIST Balanced dataset\n",
    "- Includes digits 0-9 and alphabet A-Za-z (where lower-case letters that are similar to upper-case letters are ommitted due to mis-classification)\n",
    "- Each digit and letters have equal number of samples\n",
    "- label is in the first column of loaded dataset and is corresponds to the order <br>\n",
    "    eg. letter A is labeled as 10 etc..."
   ]
  },
  {
   "cell_type": "markdown",
   "metadata": {},
   "source": [
    "![title](dataset_info.png)"
   ]
  },
  {
   "cell_type": "markdown",
   "metadata": {},
   "source": [
    "![title](dataset_info2.png)"
   ]
  },
  {
   "cell_type": "code",
   "execution_count": 2,
   "metadata": {},
   "outputs": [],
   "source": [
    "# Load the data\n",
    "letters_train_path = 'data/emnist-balanced-train.csv'\n",
    "letters_test_path = 'data/emnist-balanced-test.csv'"
   ]
  },
  {
   "cell_type": "code",
   "execution_count": 3,
   "metadata": {},
   "outputs": [],
   "source": [
    "train_data = pd.read_csv(letters_train_path, header=None)\n",
    "test_data = pd.read_csv(letters_test_path, header=None)"
   ]
  },
  {
   "cell_type": "code",
   "execution_count": 4,
   "metadata": {},
   "outputs": [],
   "source": [
    "# change from panda dataframe to numpy array \n",
    "data_train = train_data.values\n",
    "data_test = test_data.values"
   ]
  },
  {
   "cell_type": "code",
   "execution_count": 5,
   "metadata": {},
   "outputs": [
    {
     "data": {
      "text/plain": [
       "((112800, 785), (18800, 785))"
      ]
     },
     "execution_count": 5,
     "metadata": {},
     "output_type": "execute_result"
    }
   ],
   "source": [
    "data_train.shape, data_test.shape"
   ]
  },
  {
   "cell_type": "markdown",
   "metadata": {},
   "source": [
    "train: 112,800 <br>\n",
    "test: 18,800 <br>\n",
    "total: 131,600 <br>\n",
    "classes: 47 (from 0-9A-Za-z but 15 lower-alphabets are missing since they are omitted to avoid mis-classification errors) <br>\n",
    "image size: 28 by 28 (784) "
   ]
  },
  {
   "cell_type": "markdown",
   "metadata": {},
   "source": [
    "<h1> Data Processing"
   ]
  },
  {
   "cell_type": "markdown",
   "metadata": {},
   "source": [
    "\n",
    "- Separate y value (which in first column)\n",
    "- One-Hot encode y"
   ]
  },
  {
   "cell_type": "code",
   "execution_count": 6,
   "metadata": {},
   "outputs": [
    {
     "name": "stdout",
     "output_type": "stream",
     "text": [
      "<class 'pandas.core.frame.DataFrame'>\n",
      "RangeIndex: 112800 entries, 0 to 112799\n",
      "Columns: 785 entries, 0 to 784\n",
      "dtypes: int64(785)\n",
      "memory usage: 675.6 MB\n"
     ]
    }
   ],
   "source": [
    "# notice train_data is panda frame and data_train is numpy array \n",
    "train_data.info()"
   ]
  },
  {
   "cell_type": "code",
   "execution_count": 7,
   "metadata": {},
   "outputs": [],
   "source": [
    "# Change the datatype and separate the y values\n",
    "x_train = data_train[:, 1:]\n",
    "y_train = data_train[:, 0:1]\n",
    "\n",
    "x_test = data_test[:, 1:]\n",
    "y_test = data_test[:, 0:1]"
   ]
  },
  {
   "cell_type": "markdown",
   "metadata": {},
   "source": [
    "## One-hot encoding\n",
    "Turn y values to one hot encoding of [examples *47]\n",
    "- notice: y_train, y_test is a column vector. Function requires row vector to create a One-hot encoding \n",
    "- https://stackoverflow.com/questions/18691084/what-does-1-mean-in-numpy-reshape\n",
    "- https://stackoverflow.com/questions/29831489/convert-array-of-indices-to-1-hot-encoded-numpy-array"
   ]
  },
  {
   "cell_type": "code",
   "execution_count": 8,
   "metadata": {},
   "outputs": [],
   "source": [
    "def hot_encoder(data):\n",
    "    data = data.reshape(-1) # turn to row vector \n",
    "    hot_encoded = np.zeros((data.size,data.max()+1)) # create 0's of [ n * num_classes ]\n",
    "    hot_encoded[np.arange(data.size), data] = 1\n",
    "\n",
    "    return hot_encoded\n",
    "    \n",
    "y_train_hot = hot_encoder(y_train)\n",
    "y_test_hot = hot_encoder(y_test)\n"
   ]
  },
  {
   "cell_type": "code",
   "execution_count": 9,
   "metadata": {
    "scrolled": false
   },
   "outputs": [
    {
     "data": {
      "text/plain": [
       "((112800, 47), (18800, 47))"
      ]
     },
     "execution_count": 9,
     "metadata": {},
     "output_type": "execute_result"
    }
   ],
   "source": [
    "y_train_hot.shape, y_test_hot.shape"
   ]
  },
  {
   "cell_type": "code",
   "execution_count": 10,
   "metadata": {},
   "outputs": [
    {
     "data": {
      "text/plain": [
       "(array([0., 0., 0., 0., 0., 0., 0., 0., 0., 0., 0., 0., 0., 0., 0., 0., 0.,\n",
       "        0., 0., 0., 0., 0., 0., 0., 0., 0., 1., 0., 0., 0., 0., 0., 0., 0.,\n",
       "        0., 0., 0., 0., 0., 0., 0., 0., 0., 0., 0., 0., 0.]), array([26]))"
      ]
     },
     "execution_count": 10,
     "metadata": {},
     "output_type": "execute_result"
    }
   ],
   "source": [
    "# check to see one sample\n",
    "y_test_hot[3],y_test[3]"
   ]
  },
  {
   "cell_type": "code",
   "execution_count": 11,
   "metadata": {},
   "outputs": [],
   "source": [
    "# change the data type from int to float\n",
    "x_train = x_train.astype('float32') \n",
    "x_test = x_test.astype('float32')"
   ]
  },
  {
   "cell_type": "markdown",
   "metadata": {},
   "source": [
    "## Configuration\n",
    "some configuration for later use:"
   ]
  },
  {
   "cell_type": "code",
   "execution_count": 12,
   "metadata": {},
   "outputs": [],
   "source": [
    "# The number of pixels in each dimension of an image.\n",
    "img_size = 28\n",
    "\n",
    "# The images are stored in one-dimensional arrays of this length.\n",
    "img_size_flat = x_train.shape[1] # 28 * 28 = 784\n",
    "\n",
    "# Tuple with height and width of images used to reshape arrays.\n",
    "img_shape = (img_size,img_size)\n",
    "\n",
    "# Number of classes, one class for each of characters.\n",
    "num_classes = 47 \n",
    "\n",
    "num_channels = 1"
   ]
  },
  {
   "cell_type": "markdown",
   "metadata": {},
   "source": [
    "## Rotation\n",
    "for some reason, the image is flipped and rotated, thus we need to fix "
   ]
  },
  {
   "cell_type": "code",
   "execution_count": 13,
   "metadata": {
    "scrolled": true
   },
   "outputs": [
    {
     "data": {
      "image/png": "[encoded data removed]",
      "text/plain": [
       "<Figure size 432x288 with 1 Axes>"
      ]
     },
     "metadata": {
      "needs_background": "light"
     },
     "output_type": "display_data"
    }
   ],
   "source": [
    "# try display one letter \n",
    "plt.imshow(x_test[3].reshape([28, 28]), cmap='binary')\n",
    "plt.show()"
   ]
  },
  {
   "cell_type": "code",
   "execution_count": 14,
   "metadata": {},
   "outputs": [],
   "source": [
    "def rotate(image):\n",
    "    image = image.reshape(img_shape) # put back shape to 28 by 28\n",
    "    image = np.fliplr(image)\n",
    "    image = np.rot90(image)\n",
    "    return image.reshape(img_size * img_size)\n",
    "\n",
    "# since it is a gray scale image \n",
    "# applying per row \n",
    "x_train = np.apply_along_axis(rotate, 1, x_train)\n",
    "x_test = np.apply_along_axis(rotate, 1, x_test)"
   ]
  },
  {
   "cell_type": "code",
   "execution_count": 15,
   "metadata": {
    "scrolled": true
   },
   "outputs": [
    {
     "data": {
      "image/png": "[encoded data removed]",
      "text/plain": [
       "<Figure size 432x288 with 1 Axes>"
      ]
     },
     "metadata": {
      "needs_background": "light"
     },
     "output_type": "display_data"
    }
   ],
   "source": [
    "plt.imshow(x_test[3].reshape(img_shape), cmap='binary')\n",
    "plt.show()"
   ]
  },
  {
   "cell_type": "markdown",
   "metadata": {},
   "source": [
    "Let's plot some more"
   ]
  },
  {
   "cell_type": "code",
   "execution_count": 16,
   "metadata": {},
   "outputs": [],
   "source": [
    "# displays 9 images from the dataset \n",
    "def plot_images(images, cls_true, cls_pred=None):\n",
    "    assert len(images) == len(cls_true) == 9\n",
    "    \n",
    "    # Create figure with 3x3 sub-plots.\n",
    "    fig, axes = plt.subplots(3, 3)\n",
    "    fig.subplots_adjust(hspace=0.3, wspace=0.3)\n",
    "\n",
    "    for i, ax in enumerate(axes.flat):\n",
    "        # Plot image.\n",
    "        ax.imshow(images[i].reshape(img_shape), cmap='binary')\n",
    "\n",
    "        # Show true and predicted classes.\n",
    "        if cls_pred is None:\n",
    "            xlabel = \"True: {0}\".format(cls_true[i])\n",
    "        else:\n",
    "            xlabel = \"True: {0}, Pred: {1}\".format(cls_true[i], cls_pred[i])\n",
    "\n",
    "        # Show the classes as the label on the x-axis.\n",
    "        ax.set_xlabel(xlabel)\n",
    "        \n",
    "        # Remove ticks from the plot.\n",
    "        ax.set_xticks([])\n",
    "        ax.set_yticks([])\n",
    "    \n",
    "    # Ensure the plot is shown correctly with multiple plots\n",
    "    # in a single Notebook cell.\n",
    "    plt.show()"
   ]
  },
  {
   "cell_type": "code",
   "execution_count": 17,
   "metadata": {
    "scrolled": false
   },
   "outputs": [
    {
     "data": {
      "image/png": "[encoded data removed]",
      "text/plain": [
       "<Figure size 432x288 with 9 Axes>"
      ]
     },
     "metadata": {},
     "output_type": "display_data"
    }
   ],
   "source": [
    "# Get the first 9 images from the train-set.\n",
    "images = x_train[0:9]\n",
    "\n",
    "# Get the true classes for those images.\n",
    "cls_true =y_train[0:9]\n",
    "\n",
    "# Plot the images and labels using our helper-function above.\n",
    "plot_images(images=images, cls_true=cls_true)"
   ]
  },
  {
   "cell_type": "markdown",
   "metadata": {},
   "source": [
    "## Normalization\n",
    "- Since its image, max pixel is 255 thus we can just devide by 255 to get its range in [0,1]. "
   ]
  },
  {
   "cell_type": "code",
   "execution_count": 18,
   "metadata": {},
   "outputs": [
    {
     "data": {
      "text/plain": [
       "(255.0, 0.0)"
      ]
     },
     "execution_count": 18,
     "metadata": {},
     "output_type": "execute_result"
    }
   ],
   "source": [
    "x_train[0].max(),x_train[0].min()"
   ]
  },
  {
   "cell_type": "code",
   "execution_count": 19,
   "metadata": {},
   "outputs": [
    {
     "data": {
      "text/plain": [
       "(1.0, 0.0)"
      ]
     },
     "execution_count": 19,
     "metadata": {},
     "output_type": "execute_result"
    }
   ],
   "source": [
    "x_train_norm = x_train/255.\n",
    "x_test_norm = x_test/255.\n",
    "x_train_norm[0].max(),x_train_norm[0].min()"
   ]
  },
  {
   "cell_type": "markdown",
   "metadata": {},
   "source": [
    "## Split to Train, Test, Validation set "
   ]
  },
  {
   "cell_type": "code",
   "execution_count": 20,
   "metadata": {},
   "outputs": [],
   "source": [
    "# we don't need to shuffle the data since data is not sorted \n",
    "# we will take 20 % of data from 112800 samples in train set\n",
    "num_valid = int(x_train_norm.shape[0] * 0.2)\n",
    "\n",
    "x_train = x_train_norm[num_valid:]\n",
    "y_train_hot = y_train_hot[num_valid:,:]\n",
    "\n",
    "x_valid = x_train_norm[:num_valid]\n",
    "y_valid_hot = y_train_hot[:num_valid,:]"
   ]
  },
  {
   "cell_type": "code",
   "execution_count": 21,
   "metadata": {},
   "outputs": [
    {
     "data": {
      "text/plain": [
       "((90240, 784), (22560, 784), (18800, 784))"
      ]
     },
     "execution_count": 21,
     "metadata": {},
     "output_type": "execute_result"
    }
   ],
   "source": [
    "x_train.shape, x_valid.shape, x_test.shape"
   ]
  },
  {
   "cell_type": "code",
   "execution_count": 22,
   "metadata": {},
   "outputs": [
    {
     "data": {
      "text/plain": [
       "((90240, 47), (22560, 47), (18800, 47))"
      ]
     },
     "execution_count": 22,
     "metadata": {},
     "output_type": "execute_result"
    }
   ],
   "source": [
    "y_train_hot.shape, y_valid_hot.shape, y_test_hot.shape"
   ]
  },
  {
   "cell_type": "code",
   "execution_count": 23,
   "metadata": {},
   "outputs": [],
   "source": [
    "y_train_hot = y_train_hot.astype('float32') \n",
    "y_valid_hot = y_valid_hot.astype('float32') \n",
    "y_test_hot = y_test_hot.astype('float32') "
   ]
  },
  {
   "cell_type": "markdown",
   "metadata": {},
   "source": [
    "## Future to do \n",
    "- Data Augmentation (shift, rotate, rescale) for getting more data to get higher accuracy\n",
    "- https://github.com/ChaitanyaBaweja/RotNIST/blob/master/main.py"
   ]
  },
  {
   "cell_type": "markdown",
   "metadata": {},
   "source": [
    "# Model architecture "
   ]
  },
  {
   "cell_type": "markdown",
   "metadata": {},
   "source": [
    "2 Conv layer followed like:\n",
    "\n",
    "Conv -> activation -> max pooling -> Conv -> activation -> max pooling -> Flatten -> FCN -> FCN \n",
    "\n",
    "train on K-fold using scikit learn \n",
    "https://www.kaggle.com/wenyangsama/kfold-cnn-maxpooling\n",
    "https://chrisalbon.com/deep_learning/keras/k-fold_cross-validating_neural_networks/\n"
   ]
  },
  {
   "cell_type": "markdown",
   "metadata": {},
   "source": [
    "## Configuration of Neural Network\n",
    "- https://medium.com/@jonathan_hui/improve-deep-learning-models-performance-network-tuning-part-6-29bf90df6d2d"
   ]
  },
  {
   "cell_type": "markdown",
   "metadata": {},
   "source": [
    "### Available Options to Try Out:  <br> \n",
    "__• Activation function__: \n",
    "    - 'relu':\n",
    "        - Default \n",
    "    - 'lrelu' (leaky relu):\n",
    "    - 'elu':\n",
    "        \n",
    "         \n",
    "__• Weight initialization__(default is None):\n",
    "    - 'xavier'\n",
    "        - preferred to be used when using tanh/sigmoid \n",
    "    - 'he'\n",
    "        - preferred to be used when using Relu \n",
    "    \n",
    "__• learning rate schedule__(default: None, None):\n",
    "    - types:\n",
    "        - 'constant': (Predetermined piecewise constant learning rate) \n",
    "        - 'performance': (Performance scheduling) \n",
    "        - 'exp': (Exponential Scheduling) \n",
    "        - 'pow': (Power scheduling) \n",
    "    - N epochs (default is 50):\n",
    "        - change learning rate every N epochs with specified schedule.\n",
    "\n",
    "__• Gradient Optimizer__(defualt: SDG):\n",
    "    - 'sdg'\n",
    "    - 'nestrov'\n",
    "    - 'momentum'\n",
    "    - 'adagrad' (not in Neural \n",
    "    - 'rmsprop' \n",
    "    - 'adam'\n",
    "\n",
    "__• Normalization__(defualt: None): \n",
    "Normalization will be applied after activation layer based on the discussion: https://www.reddit.com/r/MachineLearning/comments/67gonq/d_batch_normalization_before_or_after_relu/ <br>\n",
    "if you are curiouse about other normalization then check this post: http://yeephycho.github.io/2016/08/03/Normalizations-in-neural-networks/\n",
    "    - 'bn' (batch normalization)\n",
    "    - 'ln' (layer normalization)\n",
    "    - 'lrn' (Local Response Normalization)\n",
    "    \n",
    "__•Regularization__ (defualt: L2):\n",
    "    - 'l2'\n",
    "    - 'l1'\n",
    "    - 'dropout'\n",
    "    - 'maxout'\n"
   ]
  },
  {
   "cell_type": "code",
   "execution_count": 119,
   "metadata": {
    "scrolled": true
   },
   "outputs": [],
   "source": [
    "# Convolutional Layer 1.\n",
    "filter_size1 = 5          # kernal size 5 x 5 x 1\n",
    "num_filters1 = 16         # There are 16 of these filters.\n",
    "\n",
    "# Convolutional Layer 2.\n",
    "filter_size2 = 5          # kernal size 5 x 5 x 1\n",
    "num_filters2 = 36         # There are 36 of these filters.\n",
    "\n",
    "\n",
    "# Fully-connected layer.\n",
    "fc_size = 128             # Number of neurons in fully-connected layer.\n",
    "\n",
    "\n",
    "options = {\n",
    "        'act_func' : 'elu',\n",
    "        'weight_init' : 'xavier',\n",
    "}\n",
    "\n",
    "opt = 'nestrov'\n"
   ]
  },
  {
   "cell_type": "code",
   "execution_count": 120,
   "metadata": {},
   "outputs": [],
   "source": [
    "# clear old variables\n",
    "tf.reset_default_graph()"
   ]
  },
  {
   "cell_type": "markdown",
   "metadata": {},
   "source": [
    "## Helper functions"
   ]
  },
  {
   "cell_type": "code",
   "execution_count": 121,
   "metadata": {},
   "outputs": [],
   "source": [
    "def new_weights(wt_initializer=None):\n",
    "    if wt_initializer == \"Xavier\":\n",
    "        return tf.contrib.layers.variance_scaling_initializer(uniform=False)\n",
    "    elif wt_initializer == \"He\":\n",
    "        return tf.contrib.layers.xavier_initializer(uniform=False)\n",
    "    else:\n",
    "        return tf.glorot_uniform_initializer() # will use their default initialization"
   ]
  },
  {
   "cell_type": "code",
   "execution_count": 122,
   "metadata": {},
   "outputs": [],
   "source": [
    "def new_biases(length):\n",
    "    return tf.Variable(tf.constant(0.01,shape=[length]))"
   ]
  },
  {
   "cell_type": "markdown",
   "metadata": {},
   "source": [
    "## Convolution Layer"
   ]
  },
  {
   "cell_type": "code",
   "execution_count": 123,
   "metadata": {},
   "outputs": [],
   "source": [
    "def new_conv_layer(input,              # The previous layer.\n",
    "                   num_input_channels, # Num. channels in prev. layer.\n",
    "                   filter_size,        # Width and height of each filter.\n",
    "                   num_filters,        # Number of kernel filters.\n",
    "                   options,            # Dictionary containing various options (weights, activation function)\n",
    "                   use_bn = True,      # Batch norm\n",
    "                   use_dropout=True,   # Use dropout\n",
    "                   keep_prob=0.9,      # Probability to keep for dropout\n",
    "                   use_pooling=True,   # Use 2x2 max-pooling.\n",
    "                   is_train=False):    # Training or not  \n",
    "    \n",
    "    # Shape of the filter-weights for the convolution.\n",
    "    shape = [filter_size, filter_size, num_input_channels, num_filters]\n",
    "\n",
    "    # Create new weights aka. filters with the given shape.\n",
    "    weights = new_weights(wt_initializer=options.get('weight_init', None))\n",
    "\n",
    "    # Create new biases, one for each filter.\n",
    "    biases = new_biases(length=num_filters)\n",
    "    \n",
    "    kernel = tf.get_variable(\n",
    "        initializer=weights, \n",
    "        shape=shape,\n",
    "        name='kernel')\n",
    "\n",
    "    \n",
    "    layer = tf.nn.conv2d(input=input,\n",
    "                         filter=kernel,\n",
    "                         strides=[1, 1, 1, 1], # strides of 1\n",
    "                         padding='SAME')\n",
    "    \n",
    "    # Add the biases to the results of the convolution.\n",
    "    # A bias-value is added to each filter-channel.\n",
    "    layer += biases # [num_images, img_height, img_width, num_channels=num_filters]\n",
    "    \n",
    "    # Perform batch normaliazation\n",
    "    # code sampled from:\n",
    "    # - https://stackoverflow.com/questions/33949786/how-could-i-use-batch-normalization-in-tensorflow/33950177#33950177\n",
    "    # - https://gist.github.com/tomokishii/0ce3bdac1588b5cca9fa5fbdf6e1c412\n",
    "    # - https://github.com/davidslac/mlearntut/blob/master/BatchNormalization.py\n",
    "    \n",
    "    if use_bn:\n",
    "        beta = tf.Variable(tf.constant(0.0, shape=[num_filters]),\n",
    "                                     name='beta', trainable=True)\n",
    "        gamma = tf.Variable(tf.constant(1.0, shape=[num_filters]),\n",
    "                                      name='gamma', trainable=True)\n",
    "        # Calculate batch mean and variance\n",
    "        batch_mean, batch_var = tf.nn.moments(layer, [0,1,2], name='moments')\n",
    "        \n",
    "        # Create an ExponentialMovingAverage object\n",
    "        ema = tf.train.ExponentialMovingAverage(decay=0.5)\n",
    "\n",
    "        # To understand more detailes on EMA and how to use it, read this post: http://ruishu.io/2017/11/22/ema/\n",
    "        def mean_var_with_update():\n",
    "            ema_apply_op = ema.apply([batch_mean, batch_var])\n",
    "            with tf.control_dependencies([ema_apply_op]):\n",
    "                return tf.identity(batch_mean), tf.identity(batch_var)\n",
    "                \n",
    "        # if train\n",
    "        # if test: Test time batch norm using learned gamma/beta and calculated running mean/var.\n",
    "        mean, var = tf.cond(is_train,\n",
    "                            mean_var_with_update,\n",
    "                            lambda: (ema.average(batch_mean), ema.average(batch_var)))\n",
    "        \n",
    "        normed = tf.nn.batch_normalization(layer, mean, var, beta, gamma, 1e-3)\n",
    "\n",
    "\n",
    "    # I decided to do pooling before activation function (although for max pool it doesn't matter the order)\n",
    "    # Use pooling to down-sample the image resolution?\n",
    "    if use_pooling:\n",
    "        # This is 2x2 max-pooling\n",
    "        layer = tf.nn.max_pool(value=layer,\n",
    "                               ksize=[1, 2, 2, 1], # [batch_size, kernel_size, kernel_size, channels]\n",
    "                               strides=[1, 2, 2, 1],\n",
    "                               padding='SAME')\n",
    "\n",
    "        \n",
    "    # Perform activation function of choice\n",
    "    act = options.get('act_func','relu')\n",
    "    if act == 'relu':    \n",
    "        layer = tf.nn.relu(layer)\n",
    "    elif act == 'lrelu':\n",
    "        layer = tf.nn.leaky_relu(layer, alpha=0.2)\n",
    "    elif act == 'elu':\n",
    "        layer = tf.nn.elu(layer)\n",
    "        \n",
    "    # applying dropout in conv layer just to see how it reacts. Set it low. \n",
    "    # https://stats.stackexchange.com/questions/240305/where-should-i-place-dropout-layers-in-a-neural-network\n",
    "    if use_dropout:\n",
    "        tf.nn.dropout(layer,keep_prob=0.9)\n",
    "        \n",
    "    return layer, weights"
   ]
  },
  {
   "cell_type": "markdown",
   "metadata": {},
   "source": [
    "## Flatten Layer"
   ]
  },
  {
   "cell_type": "code",
   "execution_count": 124,
   "metadata": {},
   "outputs": [],
   "source": [
    "def flatten_layer(layer):\n",
    "    # Get the shape of the input layer.\n",
    "    layer_shape = layer.get_shape()\n",
    "\n",
    "    # The shape of the input layer is assumed to be:\n",
    "    # layer_shape == [num_images, img_height, img_width, num_channels]\n",
    "\n",
    "    # The number of features is: img_height * img_width * num_channels\n",
    "    num_features = layer_shape[1:4].num_elements()\n",
    "    \n",
    "    # Reshape the layer to [num_images, num_features].\n",
    "    layer_flat = tf.reshape(layer, [-1, num_features])\n",
    "\n",
    "    # The shape of the flattened layer is now:\n",
    "    # [num_images, img_height * img_width * num_channels]\n",
    "\n",
    "    # Return both the flattened layer and the number of features.\n",
    "    return layer_flat, num_features"
   ]
  },
  {
   "cell_type": "markdown",
   "metadata": {},
   "source": [
    "## Fully Convolutional Layer"
   ]
  },
  {
   "cell_type": "code",
   "execution_count": 125,
   "metadata": {},
   "outputs": [],
   "source": [
    "def new_fc_layer(input,          # The previous layer.\n",
    "                 num_inputs,     # Num. inputs from prev. layer.\n",
    "                 num_outputs,    # Num. outputs.\n",
    "                 options,\n",
    "                 use_relu=True): # Use Rectified Linear Unit\n",
    "\n",
    "    # Create new weights and biases.\n",
    "    weights = tf.Variable(tf.truncated_normal(shape=[num_inputs, num_outputs], stddev=0.05))\n",
    "    biases = new_biases(length=num_outputs)\n",
    "\n",
    "    # Calculate the layer as the matrix multiplication of\n",
    "    # the input and weights, and then add the bias-values.\n",
    "    layer = tf.matmul(input, weights) + biases\n",
    "\n",
    "    \n",
    "    # Perform activation function of choice\n",
    "    act = options.get('act_func','relu')\n",
    "    if act == 'relu':    \n",
    "        layer = tf.nn.relu(layer)\n",
    "    elif act == 'lrelu':\n",
    "        layer = tf.nn.leaky_relu(layer, alpha=0.2)\n",
    "    elif act == 'elu':\n",
    "        layer = tf.nn.elu(layer)\n",
    "\n",
    "    return layer"
   ]
  },
  {
   "cell_type": "markdown",
   "metadata": {},
   "source": [
    "## Building model"
   ]
  },
  {
   "cell_type": "code",
   "execution_count": 126,
   "metadata": {},
   "outputs": [],
   "source": [
    "def create_model(x,y,keep_prob=0.9,is_train=False):\n",
    "    x_image = tf.reshape(x, [-1, img_size, img_size, num_channels])\n",
    "            \n",
    "    ########################################################################################################\n",
    "    # conv layer 1\n",
    "    with tf.variable_scope('conv_1'):\n",
    "        layer_conv1, weights_conv1 = \\\n",
    "        new_conv_layer(input=x_image,\n",
    "                       num_input_channels=num_channels,\n",
    "                       filter_size=filter_size1,\n",
    "                       num_filters=num_filters1,\n",
    "                       options=options,\n",
    "                       use_bn = True,\n",
    "                       use_dropout = True,\n",
    "                       use_pooling=True,\n",
    "                       keep_prob=keep_prob,\n",
    "                       is_train=is_train)\n",
    "\n",
    "    ########################################################################################################\n",
    "    # conv layer 2\n",
    "    with tf.variable_scope('conv_2'):\n",
    "        layer_conv2, weights_conv2 = \\\n",
    "        new_conv_layer(input=layer_conv1,\n",
    "                       num_input_channels=num_filters1,\n",
    "                       filter_size=filter_size2,\n",
    "                       num_filters=num_filters2,\n",
    "                       options=options,\n",
    "                       use_bn = True,\n",
    "                       use_dropout = True,\n",
    "                       use_pooling=True,\n",
    "                       keep_prob=keep_prob,\n",
    "                       is_train=is_train)\n",
    "\n",
    "    ########################################################################################################\n",
    "    # flatten layer\n",
    "    layer_flat, num_features = flatten_layer(layer_conv2)\n",
    "\n",
    "    ########################################################################################################\n",
    "    # fully connected layer 1\n",
    "    with tf.variable_scope('fc1'):\n",
    "        layer_fc1 = new_fc_layer(input=layer_flat,\n",
    "                         num_inputs=num_features, \n",
    "                         num_outputs=fc_size, # 128,\n",
    "                         options=options,\n",
    "                         use_relu=True)\n",
    "    \n",
    "    ########################################################################################################\n",
    "    # fully connected layer 2\n",
    "    with tf.variable_scope('fc2'):\n",
    "        layer_fc2 = new_fc_layer(input=layer_fc1,\n",
    "                         num_inputs=fc_size, # 128 \n",
    "                         num_outputs=num_classes, # 47 \n",
    "                        options=options,\n",
    "                         use_relu=True)\n",
    "    \n",
    "    return layer_fc2\n",
    "\n"
   ]
  },
  {
   "cell_type": "code",
   "execution_count": 127,
   "metadata": {},
   "outputs": [],
   "source": [
    "# setup input (e.g. the data that changes every batch)\n",
    "# The first dim is None, and gets sets automatically based on batch size fed in\n",
    "X = tf.placeholder(tf.float32, [None, img_size_flat])\n",
    "y = tf.placeholder(tf.float32, [None, num_classes],name='y_true') # contains truth\n",
    "\n",
    "keep_prob = tf.placeholder(tf.float32) # if using the dropout\n",
    "is_training = tf.placeholder(tf.bool)\n",
    "\n",
    "y_true_cls = tf.argmax(y, axis=1)\n",
    "\n",
    "y_pred_logits = create_model(X, y, keep_prob, is_training)\n",
    "\n",
    "########################################################################################################\n",
    "# calculate accuracy \n",
    "y_pred = tf.nn.softmax(y_pred_logits) # turn to probability using softmax \n",
    "y_pred_cls = tf.argmax(y_pred, axis=1) # turn to a vector containing indicies of highest probability\n",
    "correct_prediction = tf.equal(y_pred_cls, y_true_cls) # contains 1s (meaning predicted correctly) and 0s (incorrect)\n",
    "accuracy = tf.reduce_mean(tf.cast(correct_prediction, tf.float32)) # calculate mean\n",
    "\n",
    "########################################################################################################\n",
    "# calculate loss\n",
    "cross_entropy = tf.nn.softmax_cross_entropy_with_logits(logits=y_pred_logits,\n",
    "                                                    labels=y)\n",
    "mean_loss = tf.reduce_mean(cross_entropy)\n",
    "##################################################################################################\n",
    "\n",
    "\n",
    "# Will be using Exponential Scheduling \n",
    "\n",
    "initial_lr = 0.1  # initiali lerning rate \n",
    "decay_steps = 1000 # every 1000 steps \n",
    "decay_rate = 1/10\n",
    "global_step = tf.Variable(0,trainable=False,name=\"global_step\")\n",
    "learning_rate = tf.train.exponential_decay(initial_lr,global_step,decay_steps,decay_rate)\n",
    "\n",
    "\n",
    "\n",
    "if opt == 'nestrov':\n",
    "    optimizer = tf.train.MomentumOptimizer(learning_rate=learning_rate,momentum=0.9,use_nesterov=True)\n",
    "elif opt == 'momentum':\n",
    "    optimizer = tf.train.MomentumOptimizer(learning_rate=learning_rate,momentum=0.9)\n",
    "elif opt == 'rmsprop':\n",
    "    optimizer = tf.tf.train.RMSPropOptimizer(learning_rate=learning_rate)\n",
    "elif opt == 'adam':\n",
    "    optimizer = tf.train.AdamOptimizer(learning_rate=learning_rate)\n",
    "else:\n",
    "    optimizer =  tf.train.GradientDescentOptimizer(learning_rate=learning_rate)\n",
    "    \n",
    "extra_update_ops = tf.get_collection(tf.GraphKeys.UPDATE_OPS)\n",
    "with tf.control_dependencies(extra_update_ops):\n",
    "    traning_op = optimizer.minimize(mean_loss, global_step=global_step)\n"
   ]
  },
  {
   "cell_type": "code",
   "execution_count": 128,
   "metadata": {},
   "outputs": [],
   "source": [
    "def run_model(session, predict, Xd, yd, epochs=5001, batch_size=128,training=None):\n",
    "    \n",
    "    # shuffle indicies\n",
    "    train_indicies = np.arange(x_train.shape[0])\n",
    "    np.random.shuffle(train_indicies)\n",
    "    \n",
    "    training_now = training is not None\n",
    "    \n",
    "    # setting up variables we want to compute (and optimizing)\n",
    "    # if we have a training function, add that to things we compute\n",
    "    variables = [mean_loss, correct_prediction, accuracy]\n",
    "        \n",
    "    if training_now:\n",
    "        variables[-1] = training\n",
    "        \n",
    "    # counter \n",
    "    iter_cnt = 0\n",
    "    for i in range(epochs):\n",
    "        # keep track of losses and accuracy\n",
    "        correct = 0\n",
    "        losses = []\n",
    "        print()\n",
    "        for b in range(int(math.ceil(int(Xd.shape[0])/batch_size))):\n",
    "            \n",
    "            # generate indicies for the batch\n",
    "            start_idx = (b*batch_size)%Xd.shape[0]\n",
    "            idx = train_indicies[start_idx:start_idx+batch_size]\n",
    "           \n",
    "            # create a feed dictionary for this batch\n",
    "            feed_dict = {X: Xd[idx,:],\n",
    "                         y: yd[idx,:],\n",
    "                         keep_prob: 0.9,\n",
    "                         is_training: True,\n",
    "                         }\n",
    "\n",
    "            # get batch size\n",
    "            actual_batch_size = yd[idx].shape[0]\n",
    "\n",
    "            loss, corr, _ = session.run(variables,feed_dict=feed_dict)\n",
    "          \n",
    "            # aggregate performance stats\n",
    "            losses.append(loss*actual_batch_size)\n",
    "            correct += np.sum(corr)\n",
    "            \n",
    "            if training_now and (iter_cnt % 100) == 0:\n",
    "                print(\"Iteration {0}: with minibatch training loss = {1:.3g} and accuracy of {2:.2g}\"\\\n",
    "                          .format(iter_cnt,loss,np.sum(corr)/actual_batch_size))\n",
    "            iter_cnt += 1\n",
    "        total_correct = correct/Xd.shape[0]\n",
    "        total_loss = np.sum(losses)/Xd.shape[0]\n",
    "        \n",
    "        print(\"Epoch {2}, Overall loss = {0:.3g} and accuracy of {1:.3g}\"\\\n",
    "              .format(total_loss,total_correct,i+1))\n",
    "        "
   ]
  },
  {
   "cell_type": "code",
   "execution_count": 129,
   "metadata": {},
   "outputs": [
    {
     "name": "stdout",
     "output_type": "stream",
     "text": [
      "Training\n",
      "\n",
      "Iteration 0: with minibatch training loss = 3.84 and accuracy of 0.031\n",
      "Iteration 100: with minibatch training loss = 1.19 and accuracy of 0.67\n",
      "Iteration 200: with minibatch training loss = 0.503 and accuracy of 0.86\n",
      "Iteration 300: with minibatch training loss = 0.944 and accuracy of 0.72\n",
      "Iteration 400: with minibatch training loss = 0.543 and accuracy of 0.8\n",
      "Iteration 500: with minibatch training loss = 0.481 and accuracy of 0.81\n",
      "Iteration 600: with minibatch training loss = 0.425 and accuracy of 0.91\n",
      "Iteration 700: with minibatch training loss = 0.591 and accuracy of 0.75\n",
      "Iteration 800: with minibatch training loss = 0.715 and accuracy of 0.77\n",
      "Iteration 900: with minibatch training loss = 0.362 and accuracy of 0.88\n",
      "Iteration 1000: with minibatch training loss = 0.355 and accuracy of 0.88\n",
      "Iteration 1100: with minibatch training loss = 0.357 and accuracy of 0.89\n",
      "Iteration 1200: with minibatch training loss = 0.489 and accuracy of 0.83\n",
      "Iteration 1300: with minibatch training loss = 0.462 and accuracy of 0.91\n",
      "Iteration 1400: with minibatch training loss = 0.481 and accuracy of 0.91\n",
      "Epoch 1, Overall loss = 0.601 and accuracy of 0.807\n"
     ]
    }
   ],
   "source": [
    "with tf.Session() as sess:\n",
    "    sess.run(tf.global_variables_initializer())\n",
    "    \n",
    "    print(\"Training\")\n",
    "    run_model(sess,y_pred,x_train,y_train_hot,1,64,traning_op)\n",
    "    \n",
    "#     print(\"Validation\")\n",
    "#     run_model(sess,y_pred,loss,x_val,y_val_hot,1,64)\n",
    "    \n",
    "#     print('Test')\n",
    "#     run_model(sess,y_out,mean_loss,x_test,y_test,1,64)\n",
    "    \n"
   ]
  },
  {
   "cell_type": "code",
   "execution_count": null,
   "metadata": {},
   "outputs": [],
   "source": []
  }
 ],
 "metadata": {
  "kernelspec": {
   "display_name": "Python [conda env:NLP]",
   "language": "python",
   "name": "conda-env-NLP-py"
  },
  "language_info": {
   "codemirror_mode": {
    "name": "ipython",
    "version": 3
   },
   "file_extension": ".py",
   "mimetype": "text/x-python",
   "name": "python",
   "nbconvert_exporter": "python",
   "pygments_lexer": "ipython3",
   "version": "3.6.7"
  }
 },
 "nbformat": 4,
 "nbformat_minor": 2
}
